{
 "cells": [
  {
   "cell_type": "code",
   "execution_count": 1,
   "id": "e5ac8f9f",
   "metadata": {},
   "outputs": [],
   "source": [
    "import numpy as np"
   ]
  },
  {
   "cell_type": "code",
   "execution_count": 2,
   "id": "fc5dc602",
   "metadata": {},
   "outputs": [
    {
     "data": {
      "text/plain": [
       "array([1, 2, 3, 4, 5])"
      ]
     },
     "execution_count": 2,
     "metadata": {},
     "output_type": "execute_result"
    }
   ],
   "source": [
    "n1=np.array([1,2,3,4,5])\n",
    "n1"
   ]
  },
  {
   "cell_type": "code",
   "execution_count": 3,
   "id": "8e6cdae9",
   "metadata": {},
   "outputs": [],
   "source": [
    "n1=np.arange(2,20,2)"
   ]
  },
  {
   "cell_type": "code",
   "execution_count": 4,
   "id": "eae01a8c",
   "metadata": {},
   "outputs": [
    {
     "data": {
      "text/plain": [
       "array([ 2,  4,  6,  8, 10, 12, 14, 16, 18])"
      ]
     },
     "execution_count": 4,
     "metadata": {},
     "output_type": "execute_result"
    }
   ],
   "source": [
    "n1"
   ]
  },
  {
   "cell_type": "code",
   "execution_count": 5,
   "id": "a6f6a55a",
   "metadata": {},
   "outputs": [
    {
     "data": {
      "text/plain": [
       "array([[0., 0., 0.],\n",
       "       [0., 0., 0.]])"
      ]
     },
     "execution_count": 5,
     "metadata": {},
     "output_type": "execute_result"
    }
   ],
   "source": [
    "n1=np.zeros((2,3))\n",
    "n1"
   ]
  },
  {
   "cell_type": "code",
   "execution_count": 6,
   "id": "93aa96d2",
   "metadata": {},
   "outputs": [],
   "source": [
    "#np.full is use to print a specific num for given row and coloumn"
   ]
  },
  {
   "cell_type": "code",
   "execution_count": 7,
   "id": "087b409a",
   "metadata": {},
   "outputs": [],
   "source": [
    "n2=np.full((3,4),3)"
   ]
  },
  {
   "cell_type": "code",
   "execution_count": 8,
   "id": "0cabd19a",
   "metadata": {},
   "outputs": [
    {
     "data": {
      "text/plain": [
       "array([[3, 3, 3, 3],\n",
       "       [3, 3, 3, 3],\n",
       "       [3, 3, 3, 3]])"
      ]
     },
     "execution_count": 8,
     "metadata": {},
     "output_type": "execute_result"
    }
   ],
   "source": [
    "n2"
   ]
  },
  {
   "cell_type": "code",
   "execution_count": 9,
   "id": "4b41b71c",
   "metadata": {},
   "outputs": [],
   "source": [
    "#np.arange will create a array of given range with given step size"
   ]
  },
  {
   "cell_type": "code",
   "execution_count": 10,
   "id": "f24d9e02",
   "metadata": {},
   "outputs": [
    {
     "data": {
      "text/plain": [
       "array([ 0,  2,  4,  6,  8, 10])"
      ]
     },
     "execution_count": 10,
     "metadata": {},
     "output_type": "execute_result"
    }
   ],
   "source": [
    "n3=np.arange(0,11,2)\n",
    "n3"
   ]
  },
  {
   "cell_type": "code",
   "execution_count": 11,
   "id": "1fcc8091",
   "metadata": {},
   "outputs": [],
   "source": [
    "#for array of specific range for given no of elements we can use randomint "
   ]
  },
  {
   "cell_type": "code",
   "execution_count": 12,
   "id": "b5e73b9f",
   "metadata": {},
   "outputs": [
    {
     "data": {
      "text/plain": [
       "array([77, 61, 30, 26, 69,  6, 31, 96, 32, 16, 23, 11,  9])"
      ]
     },
     "execution_count": 12,
     "metadata": {},
     "output_type": "execute_result"
    }
   ],
   "source": [
    "from random import  randint\n",
    "n4=np.random.randint(1,100,13)#1 to 100 is range and any random no of elements we want is 13 \n",
    "n4"
   ]
  },
  {
   "cell_type": "code",
   "execution_count": 13,
   "id": "6351924e",
   "metadata": {},
   "outputs": [],
   "source": [
    "n5=np.array([[4,5,6],[2,3,6]])"
   ]
  },
  {
   "cell_type": "code",
   "execution_count": 14,
   "id": "4757ba3f",
   "metadata": {},
   "outputs": [
    {
     "data": {
      "text/plain": [
       "array([[4, 5, 6],\n",
       "       [2, 3, 6]])"
      ]
     },
     "execution_count": 14,
     "metadata": {},
     "output_type": "execute_result"
    }
   ],
   "source": [
    "n5"
   ]
  },
  {
   "cell_type": "code",
   "execution_count": 15,
   "id": "197af02f",
   "metadata": {},
   "outputs": [
    {
     "data": {
      "text/plain": [
       "(2, 3)"
      ]
     },
     "execution_count": 15,
     "metadata": {},
     "output_type": "execute_result"
    }
   ],
   "source": [
    "n5.shape#we can the shape also"
   ]
  },
  {
   "cell_type": "code",
   "execution_count": 16,
   "id": "f191f5e5",
   "metadata": {},
   "outputs": [],
   "source": [
    "n5.shape=(3,2)"
   ]
  },
  {
   "cell_type": "code",
   "execution_count": 17,
   "id": "e34e6c3c",
   "metadata": {},
   "outputs": [
    {
     "data": {
      "text/plain": [
       "array([[4, 5],\n",
       "       [6, 2],\n",
       "       [3, 6]])"
      ]
     },
     "execution_count": 17,
     "metadata": {},
     "output_type": "execute_result"
    }
   ],
   "source": [
    "n5"
   ]
  },
  {
   "cell_type": "code",
   "execution_count": 18,
   "id": "11495295",
   "metadata": {},
   "outputs": [],
   "source": [
    "n6=np.array([1,2,3,4,5])\n",
    "n7=np.array([6,7,8,9,10])"
   ]
  },
  {
   "cell_type": "code",
   "execution_count": 19,
   "id": "4d75cfff",
   "metadata": {},
   "outputs": [
    {
     "data": {
      "text/plain": [
       "array([[ 1,  2,  3,  4,  5],\n",
       "       [ 6,  7,  8,  9, 10]])"
      ]
     },
     "execution_count": 19,
     "metadata": {},
     "output_type": "execute_result"
    }
   ],
   "source": [
    "np.vstack((n6,n7))#for vertically "
   ]
  },
  {
   "cell_type": "code",
   "execution_count": 20,
   "id": "fba3aead",
   "metadata": {},
   "outputs": [
    {
     "data": {
      "text/plain": [
       "array([ 1,  2,  3,  4,  5,  6,  7,  8,  9, 10])"
      ]
     },
     "execution_count": 20,
     "metadata": {},
     "output_type": "execute_result"
    }
   ],
   "source": [
    "np.hstack((n6,n7))#for horizontly add two array's"
   ]
  },
  {
   "cell_type": "code",
   "execution_count": 21,
   "id": "623f0e4f",
   "metadata": {},
   "outputs": [
    {
     "data": {
      "text/plain": [
       "array([[ 1,  6],\n",
       "       [ 2,  7],\n",
       "       [ 3,  8],\n",
       "       [ 4,  9],\n",
       "       [ 5, 10]])"
      ]
     },
     "execution_count": 21,
     "metadata": {},
     "output_type": "execute_result"
    }
   ],
   "source": [
    "np.column_stack((n6,n7))#for column stack"
   ]
  },
  {
   "cell_type": "code",
   "execution_count": 22,
   "id": "b11d6238",
   "metadata": {},
   "outputs": [
    {
     "data": {
      "text/plain": [
       "array([30, 50, 60])"
      ]
     },
     "execution_count": 22,
     "metadata": {},
     "output_type": "execute_result"
    }
   ],
   "source": [
    "#intersection\n",
    "n8=np.array([10,20,30,50,40,60])\n",
    "n9=np.array([50,60,70,80,90,30])\n",
    "np.intersect1d(n8,n9)#1d for one dimentional"
   ]
  },
  {
   "cell_type": "code",
   "execution_count": 23,
   "id": "7e2cce1c",
   "metadata": {},
   "outputs": [
    {
     "data": {
      "text/plain": [
       "array([10, 20, 40])"
      ]
     },
     "execution_count": 23,
     "metadata": {},
     "output_type": "execute_result"
    }
   ],
   "source": [
    "#difference\n",
    "np.setdiff1d(n8,n9)#diff element in n8 than n9"
   ]
  },
  {
   "cell_type": "code",
   "execution_count": 24,
   "id": "74a0908c",
   "metadata": {},
   "outputs": [
    {
     "data": {
      "text/plain": [
       "array([70, 80, 90])"
      ]
     },
     "execution_count": 24,
     "metadata": {},
     "output_type": "execute_result"
    }
   ],
   "source": [
    "np.setdiff1d(n9,n8)#diff element in n9 than n8"
   ]
  },
  {
   "cell_type": "code",
   "execution_count": 25,
   "id": "d8f35061",
   "metadata": {},
   "outputs": [],
   "source": [
    "#lets do some math with array\n",
    "import numpy as np\n",
    "n1=np.array([1,2,3])\n",
    "n2=np.array([4,5,6])"
   ]
  },
  {
   "cell_type": "code",
   "execution_count": 26,
   "id": "e90acfdd",
   "metadata": {},
   "outputs": [
    {
     "ename": "TypeError",
     "evalue": "only integer scalar arrays can be converted to a scalar index",
     "output_type": "error",
     "traceback": [
      "\u001b[1;31m---------------------------------------------------------------------------\u001b[0m",
      "\u001b[1;31mTypeError\u001b[0m                                 Traceback (most recent call last)",
      "Cell \u001b[1;32mIn[26], line 1\u001b[0m\n\u001b[1;32m----> 1\u001b[0m \u001b[43mnp\u001b[49m\u001b[38;5;241;43m.\u001b[39;49m\u001b[43msum\u001b[49m\u001b[43m(\u001b[49m\u001b[43mn1\u001b[49m\u001b[43m,\u001b[49m\u001b[43mn2\u001b[49m\u001b[43m)\u001b[49m\n",
      "File \u001b[1;32m<__array_function__ internals>:180\u001b[0m, in \u001b[0;36msum\u001b[1;34m(*args, **kwargs)\u001b[0m\n",
      "File \u001b[1;32m~\\anaconda3\\anacondaprojects\\lib\\site-packages\\numpy\\core\\fromnumeric.py:2298\u001b[0m, in \u001b[0;36msum\u001b[1;34m(a, axis, dtype, out, keepdims, initial, where)\u001b[0m\n\u001b[0;32m   2295\u001b[0m         \u001b[38;5;28;01mreturn\u001b[39;00m out\n\u001b[0;32m   2296\u001b[0m     \u001b[38;5;28;01mreturn\u001b[39;00m res\n\u001b[1;32m-> 2298\u001b[0m \u001b[38;5;28;01mreturn\u001b[39;00m \u001b[43m_wrapreduction\u001b[49m\u001b[43m(\u001b[49m\u001b[43ma\u001b[49m\u001b[43m,\u001b[49m\u001b[43m \u001b[49m\u001b[43mnp\u001b[49m\u001b[38;5;241;43m.\u001b[39;49m\u001b[43madd\u001b[49m\u001b[43m,\u001b[49m\u001b[43m \u001b[49m\u001b[38;5;124;43m'\u001b[39;49m\u001b[38;5;124;43msum\u001b[39;49m\u001b[38;5;124;43m'\u001b[39;49m\u001b[43m,\u001b[49m\u001b[43m \u001b[49m\u001b[43maxis\u001b[49m\u001b[43m,\u001b[49m\u001b[43m \u001b[49m\u001b[43mdtype\u001b[49m\u001b[43m,\u001b[49m\u001b[43m \u001b[49m\u001b[43mout\u001b[49m\u001b[43m,\u001b[49m\u001b[43m \u001b[49m\u001b[43mkeepdims\u001b[49m\u001b[38;5;241;43m=\u001b[39;49m\u001b[43mkeepdims\u001b[49m\u001b[43m,\u001b[49m\n\u001b[0;32m   2299\u001b[0m \u001b[43m                      \u001b[49m\u001b[43minitial\u001b[49m\u001b[38;5;241;43m=\u001b[39;49m\u001b[43minitial\u001b[49m\u001b[43m,\u001b[49m\u001b[43m \u001b[49m\u001b[43mwhere\u001b[49m\u001b[38;5;241;43m=\u001b[39;49m\u001b[43mwhere\u001b[49m\u001b[43m)\u001b[49m\n",
      "File \u001b[1;32m~\\anaconda3\\anacondaprojects\\lib\\site-packages\\numpy\\core\\fromnumeric.py:86\u001b[0m, in \u001b[0;36m_wrapreduction\u001b[1;34m(obj, ufunc, method, axis, dtype, out, **kwargs)\u001b[0m\n\u001b[0;32m     83\u001b[0m         \u001b[38;5;28;01melse\u001b[39;00m:\n\u001b[0;32m     84\u001b[0m             \u001b[38;5;28;01mreturn\u001b[39;00m reduction(axis\u001b[38;5;241m=\u001b[39maxis, out\u001b[38;5;241m=\u001b[39mout, \u001b[38;5;241m*\u001b[39m\u001b[38;5;241m*\u001b[39mpasskwargs)\n\u001b[1;32m---> 86\u001b[0m \u001b[38;5;28;01mreturn\u001b[39;00m ufunc\u001b[38;5;241m.\u001b[39mreduce(obj, axis, dtype, out, \u001b[38;5;241m*\u001b[39m\u001b[38;5;241m*\u001b[39mpasskwargs)\n",
      "\u001b[1;31mTypeError\u001b[0m: only integer scalar arrays can be converted to a scalar index"
     ]
    }
   ],
   "source": [
    "np.sum(n1,n2)"
   ]
  },
  {
   "cell_type": "code",
   "execution_count": 27,
   "id": "27abb881",
   "metadata": {},
   "outputs": [
    {
     "data": {
      "text/plain": [
       "array([5, 7, 9])"
      ]
     },
     "execution_count": 27,
     "metadata": {},
     "output_type": "execute_result"
    }
   ],
   "source": [
    "np.sum((n1,n2),axis=0)#for column"
   ]
  },
  {
   "cell_type": "code",
   "execution_count": 28,
   "id": "2bba4f21",
   "metadata": {},
   "outputs": [
    {
     "data": {
      "text/plain": [
       "array([ 6, 15])"
      ]
     },
     "execution_count": 28,
     "metadata": {},
     "output_type": "execute_result"
    }
   ],
   "source": [
    "np.sum((n1,n2),axis=1)#for row addition"
   ]
  },
  {
   "cell_type": "code",
   "execution_count": 29,
   "id": "46e05735",
   "metadata": {},
   "outputs": [
    {
     "data": {
      "text/plain": [
       "array([1, 2, 3])"
      ]
     },
     "execution_count": 29,
     "metadata": {},
     "output_type": "execute_result"
    }
   ],
   "source": [
    "n1"
   ]
  },
  {
   "cell_type": "code",
   "execution_count": 30,
   "id": "a2c6a737",
   "metadata": {},
   "outputs": [],
   "source": [
    "n1=n1+5"
   ]
  },
  {
   "cell_type": "code",
   "execution_count": 31,
   "id": "0b3ca8e9",
   "metadata": {},
   "outputs": [
    {
     "data": {
      "text/plain": [
       "array([6, 7, 8])"
      ]
     },
     "execution_count": 31,
     "metadata": {},
     "output_type": "execute_result"
    }
   ],
   "source": [
    "n1"
   ]
  },
  {
   "cell_type": "code",
   "execution_count": 32,
   "id": "9c40dfaf",
   "metadata": {},
   "outputs": [
    {
     "data": {
      "text/plain": [
       "array([30, 35, 40])"
      ]
     },
     "execution_count": 32,
     "metadata": {},
     "output_type": "execute_result"
    }
   ],
   "source": [
    "n1=n1*5\n",
    "n1"
   ]
  },
  {
   "cell_type": "code",
   "execution_count": 33,
   "id": "4e2a0ee8",
   "metadata": {},
   "outputs": [
    {
     "data": {
      "text/plain": [
       "array([15. , 17.5, 20. ])"
      ]
     },
     "execution_count": 33,
     "metadata": {},
     "output_type": "execute_result"
    }
   ],
   "source": [
    "n1=n1/2\n",
    "n1"
   ]
  },
  {
   "cell_type": "code",
   "execution_count": 34,
   "id": "c1c9b72a",
   "metadata": {},
   "outputs": [],
   "source": [
    "n1=n1-5"
   ]
  },
  {
   "cell_type": "code",
   "execution_count": 35,
   "id": "860d60bd",
   "metadata": {},
   "outputs": [
    {
     "data": {
      "text/plain": [
       "array([10. , 12.5, 15. ])"
      ]
     },
     "execution_count": 35,
     "metadata": {},
     "output_type": "execute_result"
    }
   ],
   "source": [
    "n1"
   ]
  },
  {
   "cell_type": "code",
   "execution_count": 36,
   "id": "ff11d81d",
   "metadata": {},
   "outputs": [],
   "source": [
    "#lets perform some mathematical functions"
   ]
  },
  {
   "cell_type": "code",
   "execution_count": 37,
   "id": "f1e02d91",
   "metadata": {},
   "outputs": [],
   "source": [
    "n1=np.array([1,2,3,4,5,6,7,8,9])\n",
    "n1=n1*3"
   ]
  },
  {
   "cell_type": "code",
   "execution_count": 38,
   "id": "75035dfb",
   "metadata": {},
   "outputs": [
    {
     "data": {
      "text/plain": [
       "15.0"
      ]
     },
     "execution_count": 38,
     "metadata": {},
     "output_type": "execute_result"
    }
   ],
   "source": [
    "np.mean(n1)"
   ]
  },
  {
   "cell_type": "code",
   "execution_count": 39,
   "id": "b10ace1d",
   "metadata": {},
   "outputs": [
    {
     "data": {
      "text/plain": [
       "15.0"
      ]
     },
     "execution_count": 39,
     "metadata": {},
     "output_type": "execute_result"
    }
   ],
   "source": [
    "np.median(n1)"
   ]
  },
  {
   "cell_type": "code",
   "execution_count": 40,
   "id": "fc0444b8",
   "metadata": {},
   "outputs": [
    {
     "data": {
      "text/plain": [
       "7.745966692414834"
      ]
     },
     "execution_count": 40,
     "metadata": {},
     "output_type": "execute_result"
    }
   ],
   "source": [
    "np.std(n1)"
   ]
  },
  {
   "cell_type": "code",
   "execution_count": 41,
   "id": "cfbf51ab",
   "metadata": {},
   "outputs": [
    {
     "data": {
      "text/plain": [
       "array([ 1,  3, 34,  6, 54, 87, 98])"
      ]
     },
     "execution_count": 41,
     "metadata": {},
     "output_type": "execute_result"
    }
   ],
   "source": [
    "n1=np.array([1,3,34,6,54,87,98])\n",
    "n1"
   ]
  },
  {
   "cell_type": "code",
   "execution_count": 42,
   "id": "6877a0f6",
   "metadata": {},
   "outputs": [],
   "source": [
    "np.save('my_array',n1)"
   ]
  },
  {
   "cell_type": "code",
   "execution_count": 43,
   "id": "77c81cde",
   "metadata": {},
   "outputs": [],
   "source": [
    "n2=np.load('my_array.npy')"
   ]
  },
  {
   "cell_type": "code",
   "execution_count": 44,
   "id": "012d3cca",
   "metadata": {},
   "outputs": [
    {
     "data": {
      "text/plain": [
       "array([ 1,  3, 34,  6, 54, 87, 98])"
      ]
     },
     "execution_count": 44,
     "metadata": {},
     "output_type": "execute_result"
    }
   ],
   "source": [
    "n2"
   ]
  },
  {
   "cell_type": "code",
   "execution_count": 45,
   "id": "34179e68",
   "metadata": {},
   "outputs": [
    {
     "data": {
      "text/plain": [
       "array([[1, 2, 3, 4],\n",
       "       [1, 2, 3, 4],\n",
       "       [8, 9, 6, 5]])"
      ]
     },
     "execution_count": 45,
     "metadata": {},
     "output_type": "execute_result"
    }
   ],
   "source": [
    "n3=np.array([[1,2,3,4],[1,2,3,4],[8,9,6,5]])\n",
    "n3"
   ]
  },
  {
   "cell_type": "code",
   "execution_count": 46,
   "id": "b76a7726",
   "metadata": {},
   "outputs": [
    {
     "data": {
      "text/plain": [
       "array([[1, 1, 8],\n",
       "       [2, 2, 9],\n",
       "       [3, 3, 6],\n",
       "       [4, 4, 5]])"
      ]
     },
     "execution_count": 46,
     "metadata": {},
     "output_type": "execute_result"
    }
   ],
   "source": [
    "np.transpose(n3)"
   ]
  },
  {
   "cell_type": "code",
   "execution_count": 47,
   "id": "db95b793",
   "metadata": {},
   "outputs": [
    {
     "data": {
      "text/plain": [
       "array([[1, 2, 3, 4],\n",
       "       [1, 2, 3, 4],\n",
       "       [8, 9, 6, 5]])"
      ]
     },
     "execution_count": 47,
     "metadata": {},
     "output_type": "execute_result"
    }
   ],
   "source": [
    "n3"
   ]
  },
  {
   "cell_type": "code",
   "execution_count": 48,
   "id": "99bd1076",
   "metadata": {},
   "outputs": [
    {
     "data": {
      "text/plain": [
       "array([1, 2, 3, 4])"
      ]
     },
     "execution_count": 48,
     "metadata": {},
     "output_type": "execute_result"
    }
   ],
   "source": [
    "n3[0]"
   ]
  },
  {
   "cell_type": "code",
   "execution_count": 49,
   "id": "463b1f25",
   "metadata": {},
   "outputs": [
    {
     "data": {
      "text/plain": [
       "9"
      ]
     },
     "execution_count": 49,
     "metadata": {},
     "output_type": "execute_result"
    }
   ],
   "source": [
    "n3[:,1][2]"
   ]
  },
  {
   "cell_type": "code",
   "execution_count": 50,
   "id": "1da34b7a",
   "metadata": {},
   "outputs": [
    {
     "data": {
      "text/plain": [
       "array([[1, 2, 3],\n",
       "       [1, 2, 3],\n",
       "       [8, 9, 6],\n",
       "       [1, 2, 3]])"
      ]
     },
     "execution_count": 50,
     "metadata": {},
     "output_type": "execute_result"
    }
   ],
   "source": [
    "n4=np.array([[1,2,3],[1,2,3],[8,9,6],[1,2,3]])\n",
    "n4"
   ]
  },
  {
   "cell_type": "code",
   "execution_count": 51,
   "id": "6e97fc35",
   "metadata": {},
   "outputs": [
    {
     "data": {
      "text/plain": [
       "array([[27, 33, 27, 27],\n",
       "       [27, 33, 27, 27],\n",
       "       [65, 88, 87, 98],\n",
       "       [27, 33, 27, 27]])"
      ]
     },
     "execution_count": 51,
     "metadata": {},
     "output_type": "execute_result"
    }
   ],
   "source": [
    "n4.dot(n3)"
   ]
  },
  {
   "cell_type": "code",
   "execution_count": 52,
   "id": "9a35ac45",
   "metadata": {},
   "outputs": [
    {
     "data": {
      "text/plain": [
       "array([[ 31,  41,  39],\n",
       "       [ 31,  41,  39],\n",
       "       [ 70,  98, 102]])"
      ]
     },
     "execution_count": 52,
     "metadata": {},
     "output_type": "execute_result"
    }
   ],
   "source": [
    "n3.dot(n4)"
   ]
  },
  {
   "cell_type": "markdown",
   "id": "e59870ec",
   "metadata": {},
   "source": [
    "THANKS FOR GOING THROUGH THIS ......sairaj naikwadi"
   ]
  }
 ],
 "metadata": {
  "kernelspec": {
   "display_name": "Python 3 (ipykernel)",
   "language": "python",
   "name": "python3"
  },
  "language_info": {
   "codemirror_mode": {
    "name": "ipython",
    "version": 3
   },
   "file_extension": ".py",
   "mimetype": "text/x-python",
   "name": "python",
   "nbconvert_exporter": "python",
   "pygments_lexer": "ipython3",
   "version": "3.10.9"
  }
 },
 "nbformat": 4,
 "nbformat_minor": 5
}
